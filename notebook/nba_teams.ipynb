{
 "cells": [
  {
   "cell_type": "code",
   "execution_count": 41,
   "metadata": {},
   "outputs": [],
   "source": [
    "import h5py\n",
    "import bs4\n",
    "import pandas as pd\n",
    "import numpy as np\n",
    "import requests\n",
    "import random\n",
    "import matplotlib.pyplot as plt;\n",
    "from dateutil.parser import parse\n",
    "import datetime\n",
    "import collections"
   ]
  },
  {
   "attachments": {},
   "cell_type": "markdown",
   "metadata": {},
   "source": [
    "### NOTEBOOK STATE VARIABLES"
   ]
  },
  {
   "cell_type": "code",
   "execution_count": 42,
   "metadata": {},
   "outputs": [],
   "source": [
    "scraping_data_initialization = False;"
   ]
  },
  {
   "attachments": {},
   "cell_type": "markdown",
   "metadata": {},
   "source": [
    "### HDF5 INIT"
   ]
  },
  {
   "cell_type": "code",
   "execution_count": 43,
   "metadata": {},
   "outputs": [],
   "source": [
    "date_now = datetime.datetime.now();\n",
    "LAST_SEASON = date_now.year+1 if date_now.month >= 11 else date_now.year;\n",
    "FIRST_SEASON = 2010;\n",
    "NUMBER_OF_SEASON = LAST_SEASON-FIRST_SEASON;\n",
    "RANGE = range(FIRST_SEASON,LAST_SEASON+1);\n",
    "\n",
    "NBA_TEAMS = {\n",
    "    \"ATL\": (RANGE, None, \"Atlanta Hawks\"),\n",
    "    \"BOS\": (RANGE, None, \"Boston Celtics\"),\n",
    "    \"BRK\": (range(2013,LAST_SEASON+1), None, \"Brooklyn Nets\"),\n",
    "    \"NJN\": (range(FIRST_SEASON,2012+1), \"BRK\"),\n",
    "    \"CHO\": (range(2015,LAST_SEASON+1), None, \"Charlotte Hornets\"),\n",
    "    \"CHA\": (range(FIRST_SEASON, 2014+1), \"CHO\"),\n",
    "    \"CHI\": (RANGE, None, \"Chicago Bulls\"),\n",
    "    \"CLE\": (RANGE, None, \"Cleveland Cavaliers\"),\n",
    "    \"DAL\": (RANGE, None, \"Dallas Mavericks\"),\n",
    "    \"DEN\": (RANGE, None, \"Denver Nuggets\"),\n",
    "    \"DET\": (RANGE, None, \"Detroit Pistons\"),\n",
    "    \"GSW\": (RANGE, None, \"Golden State Warriors\"),\n",
    "    \"HOU\":(RANGE, None, \"Houston Rockets\"),\n",
    "    \"IND\": (RANGE, None, \"Indiana Pacers\"),\n",
    "    \"LAC\": (RANGE, None, \"Los Angeles Clippers\"),\n",
    "    \"LAL\": (RANGE, None, \"Los Angeles Lakers\"),\n",
    "    \"MEM\": (RANGE, None, \"Memphis Grizzlies\"),\n",
    "    \"MIA\": (RANGE, None, \"Miami Heat\"),\n",
    "    \"MIL\": (RANGE, None, \"Milwaukee Bucks\"),\n",
    "    \"MIN\": (RANGE, None, \"Minnesota Timberwolves\"),\n",
    "    \"NOP\": (range(2014,LAST_SEASON+1), None, \"New Orleans Pelicans\"),\n",
    "    \"NOH\": (range(FIRST_SEASON,2013+1), \"NOP\"),\n",
    "    \"NYK\": (RANGE, None, \"New York Knicks\"),\n",
    "    \"OKC\": (RANGE, None, \"Oklahoma City Thunder\"),  \n",
    "    \"ORL\": (RANGE, None, \"Orlando Magic\"),\n",
    "    \"PHI\": (RANGE, None, \"Philadelphia 76ers\"),\n",
    "    \"PHO\": (RANGE, None, \"Phoenix Suns\"),\n",
    "    \"POR\": (RANGE, None, \"Portland Trail Blazers\"),\n",
    "    \"SAC\": (RANGE, None, \"Sacramento Kings\"),\n",
    "    \"SAS\": (RANGE, None, \"San Antonio Spurs\"),\n",
    "    \"TOR\": (RANGE, None, \"Toronto Raptors\"),\n",
    "    \"UTA\": (RANGE, None, \"Utah Jazz\"),\n",
    "    \"WAS\": (RANGE, None, \"Washington Wizards\")\n",
    "};\n"
   ]
  },
  {
   "cell_type": "code",
   "execution_count": 44,
   "metadata": {},
   "outputs": [
    {
     "name": "stdout",
     "output_type": "stream",
     "text": [
      "['Rk', 'G', 'Date', '@', 'OppN', 'W/L', 'Tm', 'OppP', 'FG', 'FGA', 'FG%', '3P', '3PA', '3P%', 'FT', 'FTA', 'FT%', 'ORB', 'TRB', 'AST', 'STL', 'BLK', 'TOV', 'PF', 'O_FG', 'O_FGA', 'O_FG%', 'O_3P', 'O_3PA', 'O_3P%', 'O_FT', 'O_FTA', 'O_FT%', 'O_ORB', 'O_TRB', 'O_AST', 'O_STL', 'O_BLK', 'O_TOV', 'O_PF']\n"
     ]
    }
   ],
   "source": [
    "# SCRAP COLUMNS\n",
    "# soup_obj.find(id=\"div_tgl_basic\").thead.find_all('tr')[1].get_text().replace('\\n', ',').replace('\\xa0', '@')[1:-1]\n",
    "\n",
    "COLUMNS = 'Rk,G,Date,@,OppN,W/L,Tm,OppP,FG,FGA,FG%,3P,3PA,3P%,FT,FTA,FT%,ORB,TRB,AST,STL,BLK,TOV,PF,O_FG,O_FGA,O_FG%,O_3P,O_3PA,O_3P%,O_FT,O_FTA,O_FT%,O_ORB,O_TRB,O_AST,O_STL,O_BLK,O_TOV,O_PF';\n",
    "COLUMNS = COLUMNS.split(',');\n",
    "print(COLUMNS)"
   ]
  },
  {
   "cell_type": "code",
   "execution_count": 45,
   "metadata": {},
   "outputs": [],
   "source": [
    "def initHDF5FileStructure():\n",
    "    nba_teams_file = h5py.File('nba_teams_file.hdf5', 'w');\n",
    "    string_dtype = h5py.string_dtype(encoding='utf-8');\n",
    "\n",
    "    for season in range(2010,2024):\n",
    "        nba_teams_file.create_group(f'{season}');\n",
    "\n",
    "    for season in range(2010,2024):\n",
    "        for team in NBA_TEAMS:\n",
    "            if NBA_TEAMS[team][1] is None:\n",
    "                nba_teams_file[str(season)].create_dataset(team, (83,40), dtype=string_dtype);\n",
    "\n",
    "    nba_teams_file.close();"
   ]
  },
  {
   "cell_type": "code",
   "execution_count": 46,
   "metadata": {},
   "outputs": [],
   "source": [
    "# Pull all data from BasketBall-Reference's site.\n",
    "\n",
    "def pullAllDataFromBR():\n",
    "    nba_teams_file = h5py.File('nba_teams_file.hdf5', 'r+');\n",
    "\n",
    "    for team in NBA_TEAMS:\n",
    "        print(\"TEAM \", team)\n",
    "        season_range = NBA_TEAMS[team][0];\n",
    "        new_acronym = NBA_TEAMS[team][1];\n",
    "\n",
    "        for season in season_range:\n",
    "            url = f\"https://www.basketball-reference.com/teams/{team}/{str(season)}/gamelog\";\n",
    "            r = requests.get(url);\n",
    "            soup_obj = bs4.BeautifulSoup(r.text);\n",
    "\n",
    "            for match_id in range(1,83):\n",
    "                row = soup_obj.find(id=\"div_tgl_basic\").tbody.find(id=f\"tgl_basic.{str(match_id)}\");\n",
    "\n",
    "                if row is None:\n",
    "                    break;\n",
    "\n",
    "                row = row.get_text(\",\");\n",
    "                row = row.split(',');\n",
    "\n",
    "                if row[3] != '@':\n",
    "                    row.insert(3, ' ');\n",
    "\n",
    "                if new_acronym is None and match_id == 1:\n",
    "                    nba_teams_file[str(season)][team][0] = COLUMNS;\n",
    "                elif new_acronym is not None and match_id == 1:\n",
    "                    nba_teams_file[str(season)][new_acronym][0] = COLUMNS;\n",
    "\n",
    "                if new_acronym is None:\n",
    "                    nba_teams_file[str(season)][team][match_id] = row;\n",
    "                else:\n",
    "                    nba_teams_file[str(season)][new_acronym][match_id] = row;\n",
    "\n",
    "    nba_teams_file.close();"
   ]
  },
  {
   "cell_type": "code",
   "execution_count": 47,
   "metadata": {},
   "outputs": [],
   "source": [
    "## INIT HDF5 FILE AND PULL ALL DATA FROM BASKETBALL REFERENCE'S SITE\n",
    "if scraping_data_initialization:\n",
    "    initHDF5FileStructure();\n",
    "    pullAllDataFromBR();\n"
   ]
  },
  {
   "attachments": {},
   "cell_type": "markdown",
   "metadata": {},
   "source": [
    "### PULL AND FILTER DATA"
   ]
  },
  {
   "cell_type": "code",
   "execution_count": 48,
   "metadata": {},
   "outputs": [],
   "source": [
    "# Pull new data (from LAST_SEASON) from BasketBall-Reference's site.\n",
    "def pullDataFromBRUpdate():\n",
    "    nba_teams_file = h5py.File('nba_teams_file.hdf5', 'r+');\n",
    "\n",
    "    for team in NBA_TEAMS:\n",
    "        new_acronym = NBA_TEAMS[team][1];\n",
    "        season = LAST_SEASON;\n",
    "\n",
    "        if new_acronym is not None:\n",
    "            continue;\n",
    "\n",
    "        url = f\"https://www.basketball-reference.com/teams/{team}/{str(season)}/gamelog\";\n",
    "        r = requests.get(url);\n",
    "        soup_obj = bs4.BeautifulSoup(r.text, features=\"html.parser\");\n",
    "\n",
    "        for match_id in range(1,83):\n",
    "            row = soup_obj.find(id=\"div_tgl_basic\").tbody.find(id=f\"tgl_basic.{str(match_id)}\");\n",
    "\n",
    "            if row is None:\n",
    "                break;\n",
    "\n",
    "            row = row.get_text(\",\");\n",
    "            row = row.split(',');\n",
    "\n",
    "            if row[3] != '@':\n",
    "                row.insert(3, ' ');\n",
    "\n",
    "            if match_id == 1:\n",
    "                nba_teams_file[str(season)][team][0] = COLUMNS;\n",
    "\n",
    "            nba_teams_file[str(season)][team][match_id] = row;\n",
    "\n",
    "    nba_teams_file.close();"
   ]
  },
  {
   "cell_type": "code",
   "execution_count": 49,
   "metadata": {},
   "outputs": [],
   "source": [
    "# pull pandas DataFrame containing informations about the <team> on the specified <season>\n",
    "\n",
    "def pullDF(season, team):\n",
    "    nba_teams_file = h5py.File('nba_teams_file.hdf5', 'r+');\n",
    "\n",
    "    DF = pd.DataFrame(nba_teams_file[season][team]);\n",
    "    \n",
    "    nba_teams_file.close();\n",
    "    \n",
    "    columns = DF.iloc[0].str.decode('utf-8');\n",
    "    DF = DF[1:];\n",
    "    DF.columns = columns;\n",
    "\n",
    "    for col in DF.columns:\n",
    "        DF[col] = pd.to_numeric(DF[col], errors='ignore');\n",
    "\n",
    "    DF['Date'] = DF['Date'].str.decode('utf-8');\n",
    "    DF['@'] = DF['@'].str.decode('utf-8');\n",
    "    DF['OppN'] = DF['OppN'].str.decode('utf-8');\n",
    "    DF['W/L'] = DF['W/L'].str.decode('utf-8');\n",
    "\n",
    "    return DF.dropna();"
   ]
  },
  {
   "cell_type": "code",
   "execution_count": 50,
   "metadata": {},
   "outputs": [],
   "source": [
    "# pull all matchs of all teams from year <start_year> to LAST_SEASON\n",
    "# <start_year> allowed range: [FIRST_SEASON,LAST_SEASON]\n",
    "\n",
    "def pullAllData(start_year):\n",
    "    if start_year not in range(FIRST_SEASON,LAST_SEASON+1):\n",
    "        raise ValueError('start_year value error');\n",
    "\n",
    "    DF = None;\n",
    "\n",
    "    for season in range(start_year, LAST_SEASON+1):\n",
    "        for team in NBA_TEAMS:\n",
    "            if NBA_TEAMS[team][1] is None:\n",
    "                if DF is None:\n",
    "                    DF = pullDF(str(season), team);\n",
    "                else:\n",
    "                    DF = pd.concat([pullDF(str(season), team), DF]);\n",
    "            else:\n",
    "                continue;\n",
    "\n",
    "    return DF;"
   ]
  },
  {
   "cell_type": "code",
   "execution_count": 51,
   "metadata": {},
   "outputs": [],
   "source": [
    "# pull all matchs of <team> from year <start_year> to LAST_SEASON\n",
    "# <start_year> allowed range: [FIRST_SEASON,LAST_SEASON]\n",
    "\n",
    "def pullDataTeam(start_year, team):\n",
    "    if start_year not in range(FIRST_SEASON,LAST_SEASON+1):\n",
    "        raise ValueError('start_year value error');\n",
    "\n",
    "    DF = None;\n",
    "\n",
    "    for season in range(start_year, LAST_SEASON+1):\n",
    "        if DF is None:\n",
    "            DF = pullDF(str(season), team);\n",
    "        else:\n",
    "            DF = pd.concat([pullDF(str(season), team), DF]);\n",
    "\n",
    "    return DF;"
   ]
  },
  {
   "cell_type": "code",
   "execution_count": 52,
   "metadata": {},
   "outputs": [],
   "source": [
    "# pull all matchs of <team> from year <start_year> to <end_year>\n",
    "# <start_year> and <end_yeard> allowed range: [FIRST_SEASON,LAST_SEASON]\n",
    "# <start_year> <= <end_yeard>\n",
    "\n",
    "def pullDataTeamSeasonRange(start_year, end_year, team):\n",
    "    if start_year not in range(FIRST_SEASON,LAST_SEASON+1):\n",
    "        raise ValueError('start_year value error');\n",
    "\n",
    "    DF = None;\n",
    "\n",
    "    for season in range(start_year, end_year+1):\n",
    "        if DF is None:\n",
    "            DF = pullDF(str(season), team);\n",
    "        else:\n",
    "            DF = pd.concat([pullDF(str(season), team), DF]);\n",
    "\n",
    "    return DF;"
   ]
  },
  {
   "cell_type": "code",
   "execution_count": 53,
   "metadata": {},
   "outputs": [],
   "source": [
    "# pull all matchs of <team> from year <start_year> to LAST_SEASON\n",
    "# <start_year> allowed range: [FIRST_SEASON,LAST_SEASON]\n",
    "\n",
    "# Filter the team's games according to whether they are played at home or away.\n",
    "\n",
    "def pullDataTeamAtHome(pull_Y, team, is_team_home):\n",
    "    DF = pullDataTeam(pull_Y, team);\n",
    "\n",
    "    if is_team_home:\n",
    "        DF = DF[DF['@'] != '@'];\n",
    "    else:\n",
    "        DF = DF[DF['@'] == '@'];\n",
    "\n",
    "    return DF;"
   ]
  },
  {
   "cell_type": "code",
   "execution_count": 54,
   "metadata": {},
   "outputs": [],
   "source": [
    "# pull all matchs of <team> vs <opponent> from year <start_year> to LAST_SEASON\n",
    "# <start_year> allowed range: [FIRST_SEASON,LAST_SEASON]\n",
    "\n",
    "def pullDataTeamVSOpponent(pull_Y, team, opponent):\n",
    "    DF = pullDataTeam(pull_Y, team);\n",
    "\n",
    "    return DF[DF['OppN'] == opponent];"
   ]
  },
  {
   "cell_type": "code",
   "execution_count": 55,
   "metadata": {},
   "outputs": [],
   "source": [
    "# pull all matchs of <team> vs <opponent> from year <start_year> to LAST_SEASON\n",
    "# <start_year> allowed range: [FIRST_SEASON,LAST_SEASON]\n",
    "\n",
    "# Filter the team's games according to whether they are played at home (team's home) or away (opponent's home).\n",
    "\n",
    "def LD(pull_Y, team, opponent, is_team_home):\n",
    "    DF = pullDataTeamVSOpponent(pull_Y, team, opponent);\n",
    "\n",
    "    if is_team_home:\n",
    "        DF = DF[DF['@'] != '@'];\n",
    "    else:\n",
    "        DF = DF[DF['@'] == '@'];\n",
    "\n",
    "    return DF;"
   ]
  },
  {
   "attachments": {},
   "cell_type": "markdown",
   "metadata": {},
   "source": [
    "### GRAPHICS"
   ]
  },
  {
   "attachments": {},
   "cell_type": "markdown",
   "metadata": {},
   "source": [
    "USER INPUT SIMULATION"
   ]
  },
  {
   "cell_type": "code",
   "execution_count": 56,
   "metadata": {},
   "outputs": [],
   "source": [
    "TEAM_TEST = \"ATL\";\n",
    "SEASON_RANGE_START = 2023;\n",
    "SEASON_RANGE_END = 2023;\n",
    "\n",
    "DF_PULL_SEASON_RANGE = pullDataTeamSeasonRange(SEASON_RANGE_START, SEASON_RANGE_END, TEAM_TEST);"
   ]
  },
  {
   "attachments": {},
   "cell_type": "markdown",
   "metadata": {},
   "source": [
    "BEST AND WORSE OPPONENT"
   ]
  },
  {
   "cell_type": "code",
   "execution_count": 57,
   "metadata": {},
   "outputs": [],
   "source": [
    "differences = DF_PULL_SEASON_RANGE['Tm'] - DF_PULL_SEASON_RANGE['OppP'];\n",
    "opponents = DF_PULL_SEASON_RANGE['OppN'];\n",
    "\n",
    "differences = pd.concat([differences, opponents], axis=1, ignore_index=True);\n",
    "\n",
    "## [number of wins, number of games, number of wins/number of games]\n",
    "games_victory_count = collections.defaultdict(lambda: [0,0,0]);\n",
    "\n",
    "for i in range(len(differences)):\n",
    "    diff_i = differences.iloc[i];\n",
    "    opponent = diff_i[1];\n",
    "\n",
    "    if diff_i[0] > 0:\n",
    "        games_victory_count[opponent][0] += 1;\n",
    "\n",
    "    games_victory_count[opponent][1] += 1;\n",
    "    \n",
    "for key in games_victory_count.keys():\n",
    "    games_victory_count[key][2] = games_victory_count[key][0]/games_victory_count[key][1];"
   ]
  },
  {
   "attachments": {},
   "cell_type": "markdown",
   "metadata": {},
   "source": [
    "CURRENT SEASON BAR PLOT"
   ]
  },
  {
   "cell_type": "code",
   "execution_count": 58,
   "metadata": {},
   "outputs": [],
   "source": [
    "def currentSeasonBarPlot(TEAM):\n",
    "    DF_CURRENT_SEASON = pullDataTeam(LAST_SEASON, TEAM);\n",
    "\n",
    "    differences =  DF_CURRENT_SEASON['Tm'] - DF_CURRENT_SEASON['OppP'];\n",
    "    len_differences = len(differences);\n",
    "\n",
    "    colors = [\"green\" if diff > 0 else \"red\" for diff in differences];\n",
    "\n",
    "    fig = plt.figure(1);\n",
    "    plt.bar(np.arange(1,len_differences+1),differences,color=colors,alpha=0.7);\n",
    "    plt.xlabel(\"Games (in order)\");\n",
    "    plt.ylabel(\"Difference in points\");\n",
    "    plt.title(f\"CURRENT SEASON {LAST_SEASON-1}/{LAST_SEASON}\");\n",
    "    plt.xlim(0,len_differences+1);\n",
    "    plt.tick_params(labelbottom = False, bottom = False);\n",
    "    plt.hlines(0,0,len_differences+1, colors=\"black\", linewidth=1);\n",
    "\n",
    "    return fig;"
   ]
  },
  {
   "cell_type": "code",
   "execution_count": 67,
   "metadata": {},
   "outputs": [
    {
     "data": {
      "image/png": "[encoded data removed]",
      "text/plain": [
       "<Figure size 640x480 with 1 Axes>"
      ]
     },
     "metadata": {},
     "output_type": "display_data"
    }
   ],
   "source": [
    "currentSeasonBarPlot('ATL');"
   ]
  },
  {
   "attachments": {},
   "cell_type": "markdown",
   "metadata": {},
   "source": [
    "WIN/LOSS"
   ]
  },
  {
   "cell_type": "code",
   "execution_count": 59,
   "metadata": {},
   "outputs": [],
   "source": [
    "def winsLossesPer(DF_PULL_SEASON_RANGE):\n",
    "    team_games_win_loss = (DF_PULL_SEASON_RANGE['W/L'] == 'W');\n",
    "\n",
    "    number_of_wins = team_games_win_loss.sum();\n",
    "    percent_wins = round(number_of_wins/len(team_games_win_loss),2);\n",
    "\n",
    "    number_of_losses = len(team_games_win_loss) - number_of_wins;\n",
    "    percent_losses = round(1 - percent_wins,2);\n",
    "\n",
    "    fig = plt.figure(2);\n",
    "    plt.pie([number_of_wins, number_of_losses], labels=[f\"Wins {percent_wins}%\", f\"Losses {percent_losses}%\"], colors=[\"green\", \"red\"]);\n",
    "    plt.title(f\"WINS|LOSSES PERCENTAGES\");\n",
    "\n",
    "    return fig;"
   ]
  },
  {
   "cell_type": "code",
   "execution_count": 68,
   "metadata": {},
   "outputs": [
    {
     "data": {
      "image/png": "[encoded data removed]",
      "text/plain": [
       "<Figure size 640x480 with 1 Axes>"
      ]
     },
     "metadata": {},
     "output_type": "display_data"
    }
   ],
   "source": [
    "winsLossesPer(DF_PULL_SEASON_RANGE);"
   ]
  },
  {
   "attachments": {},
   "cell_type": "markdown",
   "metadata": {},
   "source": [
    "POINTS PER GAME"
   ]
  },
  {
   "cell_type": "code",
   "execution_count": 60,
   "metadata": {},
   "outputs": [],
   "source": [
    "def teamPointsPerGame(DF_PULL_SEASON_RANGE, TEAM):\n",
    "    points_per_game = DF_PULL_SEASON_RANGE['Tm'];\n",
    "\n",
    "    fig = plt.figure(3);\n",
    "\n",
    "    plt.hist(points_per_game, color=\"#030f20\");\n",
    "    plt.vlines(points_per_game.mean(), \n",
    "        plt.ylim()[0], \n",
    "        plt.ylim()[1], \n",
    "        color=\"#ff8800\", \n",
    "        label=f\"Mean {round(points_per_game.mean(),2)}\"\n",
    "    );\n",
    "    plt.title(f\"{TEAM} POINTS SCORED PER GAME\");\n",
    "    plt.xlabel(\"Number of points\");\n",
    "    plt.ylabel(\"Count\");\n",
    "    plt.legend();\n",
    "    \n",
    "\n",
    "    return fig;"
   ]
  },
  {
   "cell_type": "code",
   "execution_count": 69,
   "metadata": {},
   "outputs": [
    {
     "data": {
      "image/png": "[encoded data removed]",
      "text/plain": [
       "<Figure size 640x480 with 1 Axes>"
      ]
     },
     "metadata": {},
     "output_type": "display_data"
    }
   ],
   "source": [
    "teamPointsPerGame(DF_PULL_SEASON_RANGE,'ATL');"
   ]
  },
  {
   "cell_type": "markdown",
   "metadata": {},
   "source": [
    "OPPONENT POINTS PER GAME"
   ]
  },
  {
   "cell_type": "code",
   "execution_count": 61,
   "metadata": {},
   "outputs": [],
   "source": [
    "def ooPPointsPerGame(DF_PULL_SEASON_RANGE, TEAM):\n",
    "    opponent_points_per_game = DF_PULL_SEASON_RANGE['OppP'];\n",
    "\n",
    "    fig = plt.figure(4);\n",
    "\n",
    "    plt.hist(opponent_points_per_game, color=\"#030f20\");\n",
    "    plt.vlines(opponent_points_per_game.mean(), \n",
    "        plt.ylim()[0], \n",
    "        plt.ylim()[1], \n",
    "        color=\"#ff8800\", \n",
    "        label=f\"Mean {round(opponent_points_per_game.mean(),2)}\"\n",
    "    );\n",
    "    plt.title(f\"OPPONENTS POINTS SCORED PER GAME AGAINTS {TEAM}\");\n",
    "    plt.xlabel(\"Number of points\");\n",
    "    plt.ylabel(\"Count\");\n",
    "    plt.legend();\n",
    "\n",
    "    return fig;"
   ]
  },
  {
   "cell_type": "code",
   "execution_count": 70,
   "metadata": {},
   "outputs": [
    {
     "data": {
      "image/png": "[encoded data removed]",
      "text/plain": [
       "<Figure size 640x480 with 1 Axes>"
      ]
     },
     "metadata": {},
     "output_type": "display_data"
    }
   ],
   "source": [
    "ooPPointsPerGame(DF_PULL_SEASON_RANGE,'ATL');"
   ]
  },
  {
   "attachments": {},
   "cell_type": "markdown",
   "metadata": {},
   "source": [
    "BOX PLOTS ON POINTS SCORED PER GAME"
   ]
  },
  {
   "cell_type": "code",
   "execution_count": 72,
   "metadata": {},
   "outputs": [],
   "source": [
    "def pointsScoreBoxPlots(DF_PULL_SEASON_RANGE, TEAM):\n",
    "    points_per_game = DF_PULL_SEASON_RANGE['Tm'];\n",
    "    opponent_points_per_game = DF_PULL_SEASON_RANGE['OppP'];\n",
    "\n",
    "    fig = plt.figure(5);\n",
    "\n",
    "    boxplot = plt.boxplot(\n",
    "        (points_per_game, opponent_points_per_game), \n",
    "        notch=True, sym=\".\", \n",
    "        patch_artist=True, \n",
    "        boxprops=dict(facecolor=\"#030f20\"),\n",
    "        medianprops=dict(color=\"white\"),\n",
    "        whiskerprops=dict(color=\"#030f20\"),\n",
    "        capprops=dict(color=\"#030f20\"));\n",
    "    plt.title(\"POINTS SCORED PER GAME\");\n",
    "    plt.xticks(ticks=[1,2],labels=[f\"{TEAM}\", f\"Opponents againts {TEAM}\"]);\n",
    "    plt.ylabel(\"Points\");\n",
    "\n",
    "    return fig;"
   ]
  },
  {
   "cell_type": "code",
   "execution_count": 73,
   "metadata": {},
   "outputs": [
    {
     "data": {
      "image/png": "[encoded data removed]",
      "text/plain": [
       "<Figure size 640x480 with 1 Axes>"
      ]
     },
     "metadata": {},
     "output_type": "display_data"
    }
   ],
   "source": [
    "pointsScoreBoxPlots(DF_PULL_SEASON_RANGE,'ATL');"
   ]
  },
  {
   "attachments": {},
   "cell_type": "markdown",
   "metadata": {},
   "source": [
    "### SIMULATION"
   ]
  },
  {
   "cell_type": "code",
   "execution_count": 63,
   "metadata": {},
   "outputs": [],
   "source": [
    "\"\"\"\n",
    "Given n,p compute c such that expected value is >= 0\n",
    "\n",
    "n := bet amount;\n",
    "c := odds * 100;\n",
    "p := probability of event * 100;\n",
    "\n",
    "(n(c/100) - n)(p/100) - n((100-p)/100) >= 0\n",
    "\n",
    "let n = 1:\n",
    "\n",
    "    => c >= 10^4/p \n",
    "\n",
    "\"\"\"\n",
    "\n",
    "# CASH = 500;\n",
    "# TRIALS = 100000;\n",
    "# number_of_match = 50;\n",
    "# bet = 5;\n",
    "# years = TRIALS;\n",
    "# BANKRUPT = False;\n",
    "# end_of_months = np.array([]);\n",
    "# end_of_years = np.array([]);\n",
    "\n",
    "# event_probability = 0.70;\n",
    "# quote = 1.5\n",
    "\n",
    "# while years > 0:\n",
    "#     money = CASH;\n",
    "#     month = 12;\n",
    "#     while month > 0:\n",
    "#         for _ in range(number_of_match):\n",
    "#             if random.random() < event_probability:\n",
    "#                 money += (bet*quote- bet);\n",
    "#             else:\n",
    "#                 money -= bet;\n",
    "\n",
    "#             if money <= 0:\n",
    "#                 print(\"BANKRUPT\")\n",
    "#                 BANKRUPT = True;\n",
    "#                 break;\n",
    "\n",
    "#         if BANKRUPT == True:\n",
    "#             break;\n",
    "\n",
    "#         end_of_months = np.append(end_of_months, money)\n",
    "#         month -= 1;\n",
    "\n",
    "#     if BANKRUPT == True:\n",
    "#         break;\n",
    "\n",
    "#     end_of_years = np.append(end_of_years, money)\n",
    "#     years -= 1;\n",
    "\n",
    "# plt.plot(np.arange(TRIALS*12), end_of_months, color=\"red\", marker=\"o\", label=f\"{len(end_of_months[end_of_months < CASH])/(TRIALS*12)} %\");\n",
    "# plt.hlines(CASH, 0, TRIALS*12, color=\"black\");\n",
    "# plt.legend();\n"
   ]
  },
  {
   "cell_type": "code",
   "execution_count": 64,
   "metadata": {},
   "outputs": [],
   "source": [
    "# print(\"0-50 : \",len(end_of_months[np.where((CASH <= end_of_months) & (end_of_months < CASH+50))])/(TRIALS*12))\n",
    "# print(\"50-100 : \",len(end_of_months[np.where((CASH+50 <= end_of_months) & (end_of_months < CASH+100))])/(TRIALS*12))\n",
    "# print(\"100-150 : \",len(end_of_months[np.where((CASH+100 <= end_of_months) & (end_of_months < CASH+150))])/(TRIALS*12))\n",
    "# print(\"150-200 : \",len(end_of_months[np.where((CASH+150 <= end_of_months) & (end_of_months < CASH+200))])/(TRIALS*12))\n",
    "# print(\"200-250 : \",len(end_of_months[np.where((CASH+200 <= end_of_months) & (end_of_months < CASH+250))])/(TRIALS*12))"
   ]
  },
  {
   "cell_type": "code",
   "execution_count": 65,
   "metadata": {},
   "outputs": [],
   "source": [
    "# plt.plot(np.arange(TRIALS), end_of_years, color=\"blue\", marker=\"o\", label=f\"{len(end_of_years[end_of_years < CASH])/TRIALS} %\");\n",
    "# plt.hlines(CASH, 0, TRIALS, color=\"black\");\n",
    "# plt.legend();"
   ]
  }
 ],
 "metadata": {
  "kernelspec": {
   "display_name": ".nba_venv",
   "language": "python",
   "name": "python3"
  },
  "language_info": {
   "codemirror_mode": {
    "name": "ipython",
    "version": 3
   },
   "file_extension": ".py",
   "mimetype": "text/x-python",
   "name": "python",
   "nbconvert_exporter": "python",
   "pygments_lexer": "ipython3",
   "version": "3.10.6"
  },
  "orig_nbformat": 4,
  "vscode": {
   "interpreter": {
    "hash": "c82631fe829b4b9b9ea80b891b4dd2c5f631ae5d2389bcbbabf8e5e8781a06d8"
   }
  }
 },
 "nbformat": 4,
 "nbformat_minor": 2
}
